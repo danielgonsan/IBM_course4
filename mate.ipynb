{
 "cells": [
  {
   "cell_type": "code",
   "execution_count": 6,
   "id": "e304c293-1c4e-4e06-a0fb-7bb1045beeaa",
   "metadata": {},
   "outputs": [],
   "source": [
    "mate = {\"asignatura\": [\"algebra\", \"edo\", \"diferencial\"],\n",
    "        \"curso\": [\"primero\", \"segundo\", \"primero\"],\n",
    "        \"duracion\": [\"16 semanas\", \"20 semanas\", \"16 semanas\"]}"
   ]
  },
  {
   "cell_type": "code",
   "execution_count": 8,
   "id": "8bf945ed-a3a5-441a-be2e-a5e30a71a4e8",
   "metadata": {},
   "outputs": [],
   "source": [
    "mate_frame = pd.DataFrame(mate)"
   ]
  },
  {
   "cell_type": "code",
   "execution_count": 9,
   "id": "d9f8969f-efdd-4c9a-8e24-792505b14f37",
   "metadata": {},
   "outputs": [
    {
     "data": {
      "text/html": [
       "<div>\n",
       "<style scoped>\n",
       "    .dataframe tbody tr th:only-of-type {\n",
       "        vertical-align: middle;\n",
       "    }\n",
       "\n",
       "    .dataframe tbody tr th {\n",
       "        vertical-align: top;\n",
       "    }\n",
       "\n",
       "    .dataframe thead th {\n",
       "        text-align: right;\n",
       "    }\n",
       "</style>\n",
       "<table border=\"1\" class=\"dataframe\">\n",
       "  <thead>\n",
       "    <tr style=\"text-align: right;\">\n",
       "      <th></th>\n",
       "      <th>asignatura</th>\n",
       "      <th>curso</th>\n",
       "      <th>duracion</th>\n",
       "    </tr>\n",
       "  </thead>\n",
       "  <tbody>\n",
       "    <tr>\n",
       "      <th>0</th>\n",
       "      <td>algebra</td>\n",
       "      <td>primero</td>\n",
       "      <td>16 semanas</td>\n",
       "    </tr>\n",
       "    <tr>\n",
       "      <th>1</th>\n",
       "      <td>edo</td>\n",
       "      <td>segundo</td>\n",
       "      <td>20 semanas</td>\n",
       "    </tr>\n",
       "    <tr>\n",
       "      <th>2</th>\n",
       "      <td>diferencial</td>\n",
       "      <td>primero</td>\n",
       "      <td>16 semanas</td>\n",
       "    </tr>\n",
       "  </tbody>\n",
       "</table>\n",
       "</div>"
      ],
      "text/plain": [
       "    asignatura    curso    duracion\n",
       "0      algebra  primero  16 semanas\n",
       "1          edo  segundo  20 semanas\n",
       "2  diferencial  primero  16 semanas"
      ]
     },
     "execution_count": 9,
     "metadata": {},
     "output_type": "execute_result"
    }
   ],
   "source": [
    "mate_frame"
   ]
  }
 ],
 "metadata": {
  "kernelspec": {
   "display_name": "Python 3 (ipykernel)",
   "language": "python",
   "name": "python3"
  },
  "language_info": {
   "codemirror_mode": {
    "name": "ipython",
    "version": 3
   },
   "file_extension": ".py",
   "mimetype": "text/x-python",
   "name": "python",
   "nbconvert_exporter": "python",
   "pygments_lexer": "ipython3",
   "version": "3.9.7"
  }
 },
 "nbformat": 4,
 "nbformat_minor": 5
}
